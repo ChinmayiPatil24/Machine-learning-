{
 "cells": [
  {
   "cell_type": "code",
   "execution_count": 1,
   "id": "99676faa-423d-4834-835a-fb646cfe9112",
   "metadata": {},
   "outputs": [
    {
     "name": "stdout",
     "output_type": "stream",
     "text": [
      "<class 'pandas.core.frame.DataFrame'>\n",
      "RangeIndex: 20718 entries, 0 to 20717\n",
      "Data columns (total 28 columns):\n",
      " #   Column            Non-Null Count  Dtype  \n",
      "---  ------            --------------  -----  \n",
      " 0   Unnamed: 0        20718 non-null  int64  \n",
      " 1   Artist            20718 non-null  object \n",
      " 2   Url_spotify       20718 non-null  object \n",
      " 3   Track             20718 non-null  object \n",
      " 4   Album             20718 non-null  object \n",
      " 5   Album_type        20718 non-null  object \n",
      " 6   Uri               20718 non-null  object \n",
      " 7   Danceability      20716 non-null  float64\n",
      " 8   Energy            20716 non-null  float64\n",
      " 9   Key               20716 non-null  float64\n",
      " 10  Loudness          20716 non-null  float64\n",
      " 11  Speechiness       20716 non-null  float64\n",
      " 12  Acousticness      20716 non-null  float64\n",
      " 13  Instrumentalness  20716 non-null  float64\n",
      " 14  Liveness          20716 non-null  float64\n",
      " 15  Valence           20716 non-null  float64\n",
      " 16  Tempo             20716 non-null  float64\n",
      " 17  Duration_ms       20716 non-null  float64\n",
      " 18  Url_youtube       20248 non-null  object \n",
      " 19  Title             20248 non-null  object \n",
      " 20  Channel           20248 non-null  object \n",
      " 21  Views             20248 non-null  float64\n",
      " 22  Likes             20177 non-null  float64\n",
      " 23  Comments          20149 non-null  float64\n",
      " 24  Description       19842 non-null  object \n",
      " 25  Licensed          20248 non-null  object \n",
      " 26  official_video    20248 non-null  object \n",
      " 27  Stream            20142 non-null  float64\n",
      "dtypes: float64(15), int64(1), object(12)\n",
      "memory usage: 4.4+ MB\n"
     ]
    }
   ],
   "source": [
    "import pandas as pd \n",
    "import numpy as np\n",
    "df = pd.read_csv('C:\\\\Users\\\\Dell\\\\Downloads\\\\Spotify_Youtube.csv') \n",
    "df.info() "
   ]
  },
  {
   "cell_type": "code",
   "execution_count": 2,
   "id": "88c20b48-01ea-4349-85c6-b129cfea1153",
   "metadata": {},
   "outputs": [
    {
     "data": {
      "text/plain": [
       "Index(['Unnamed: 0', 'Artist', 'Url_spotify', 'Track', 'Album', 'Album_type',\n",
       "       'Uri', 'Danceability', 'Energy', 'Key', 'Loudness', 'Speechiness',\n",
       "       'Acousticness', 'Instrumentalness', 'Liveness', 'Valence', 'Tempo',\n",
       "       'Duration_ms', 'Url_youtube', 'Title', 'Channel', 'Views', 'Likes',\n",
       "       'Comments', 'Description', 'Licensed', 'official_video', 'Stream'],\n",
       "      dtype='object')"
      ]
     },
     "execution_count": 2,
     "metadata": {},
     "output_type": "execute_result"
    }
   ],
   "source": [
    "df.columns"
   ]
  },
  {
   "cell_type": "code",
   "execution_count": 3,
   "id": "fa06490c-5352-47ee-9c9b-1efaedd75692",
   "metadata": {},
   "outputs": [],
   "source": [
    "df = df.drop(columns=['Loudness','Speechiness','Acousticness','Instrumentalness', 'Liveness', 'Valence', 'Tempo',\n",
    "       'Duration_ms', 'Licensed', 'Uri',\n",
    "       'Key'])"
   ]
  },
  {
   "cell_type": "code",
   "execution_count": 4,
   "id": "97c09864-0476-4bb2-9c74-6f542a6ddd70",
   "metadata": {},
   "outputs": [
    {
     "data": {
      "text/plain": [
       "Index(['Unnamed: 0', 'Artist', 'Url_spotify', 'Track', 'Album', 'Album_type',\n",
       "       'Danceability', 'Energy', 'Url_youtube', 'Title', 'Channel', 'Views',\n",
       "       'Likes', 'Comments', 'Description', 'official_video', 'Stream'],\n",
       "      dtype='object')"
      ]
     },
     "execution_count": 4,
     "metadata": {},
     "output_type": "execute_result"
    }
   ],
   "source": [
    "df.columns"
   ]
  },
  {
   "cell_type": "code",
   "execution_count": 5,
   "id": "0f2f3822-60c5-4295-8c24-d3cfc92e58a3",
   "metadata": {},
   "outputs": [
    {
     "data": {
      "text/plain": [
       "Unnamed: 0          0\n",
       "Artist              0\n",
       "Url_spotify         0\n",
       "Track               0\n",
       "Album               0\n",
       "Album_type          0\n",
       "Danceability        2\n",
       "Energy              2\n",
       "Url_youtube       470\n",
       "Title             470\n",
       "Channel           470\n",
       "Views             470\n",
       "Likes             541\n",
       "Comments          569\n",
       "Description       876\n",
       "official_video    470\n",
       "Stream            576\n",
       "dtype: int64"
      ]
     },
     "execution_count": 5,
     "metadata": {},
     "output_type": "execute_result"
    }
   ],
   "source": [
    "df.isnull().sum()"
   ]
  },
  {
   "cell_type": "code",
   "execution_count": 6,
   "id": "29d78c9e-ad06-44a3-82e3-9cb02b490d6b",
   "metadata": {},
   "outputs": [],
   "source": [
    "df = df.drop_duplicates(subset='Title', keep=\"first\") "
   ]
  },
  {
   "cell_type": "code",
   "execution_count": 7,
   "id": "03f912fd-6c84-46d7-aa1c-67609e5309f3",
   "metadata": {},
   "outputs": [
    {
     "data": {
      "text/plain": [
       "Index(['Unnamed: 0', 'Artist', 'Url_spotify', 'Track', 'Album', 'Album_type',\n",
       "       'Danceability', 'Energy', 'Url_youtube', 'Title', 'Channel', 'Views',\n",
       "       'Likes', 'Comments', 'Description', 'official_video', 'Stream'],\n",
       "      dtype='object')"
      ]
     },
     "execution_count": 7,
     "metadata": {},
     "output_type": "execute_result"
    }
   ],
   "source": [
    "df.columns"
   ]
  },
  {
   "cell_type": "code",
   "execution_count": 8,
   "id": "409db35b-4890-4c21-a265-ae02a35c83cc",
   "metadata": {},
   "outputs": [
    {
     "name": "stdout",
     "output_type": "stream",
     "text": [
      "Requirement already satisfied: pyLDAvis in c:\\users\\dell\\appdata\\local\\programs\\python\\python310\\lib\\site-packages (3.4.1)\n",
      "Requirement already satisfied: numpy>=1.24.2 in c:\\users\\dell\\appdata\\local\\programs\\python\\python310\\lib\\site-packages (from pyLDAvis) (1.25.2)\n",
      "Requirement already satisfied: scipy in c:\\users\\dell\\appdata\\local\\programs\\python\\python310\\lib\\site-packages (from pyLDAvis) (1.11.2)\n",
      "Requirement already satisfied: pandas>=2.0.0 in c:\\users\\dell\\appdata\\local\\programs\\python\\python310\\lib\\site-packages (from pyLDAvis) (2.0.3)\n",
      "Requirement already satisfied: joblib>=1.2.0 in c:\\users\\dell\\appdata\\local\\programs\\python\\python310\\lib\\site-packages (from pyLDAvis) (1.3.2)\n",
      "Requirement already satisfied: jinja2 in c:\\users\\dell\\appdata\\local\\programs\\python\\python310\\lib\\site-packages (from pyLDAvis) (3.1.2)\n",
      "Requirement already satisfied: numexpr in c:\\users\\dell\\appdata\\local\\programs\\python\\python310\\lib\\site-packages (from pyLDAvis) (2.8.8)\n",
      "Requirement already satisfied: funcy in c:\\users\\dell\\appdata\\local\\programs\\python\\python310\\lib\\site-packages (from pyLDAvis) (2.0)\n",
      "Requirement already satisfied: scikit-learn>=1.0.0 in c:\\users\\dell\\appdata\\local\\programs\\python\\python310\\lib\\site-packages (from pyLDAvis) (1.3.1)\n",
      "Requirement already satisfied: gensim in c:\\users\\dell\\appdata\\local\\programs\\python\\python310\\lib\\site-packages (from pyLDAvis) (4.3.2)\n",
      "Requirement already satisfied: setuptools in c:\\users\\dell\\appdata\\local\\programs\\python\\python310\\lib\\site-packages (from pyLDAvis) (63.2.0)\n",
      "Requirement already satisfied: python-dateutil>=2.8.2 in c:\\users\\dell\\appdata\\local\\programs\\python\\python310\\lib\\site-packages (from pandas>=2.0.0->pyLDAvis) (2.8.2)\n",
      "Requirement already satisfied: pytz>=2020.1 in c:\\users\\dell\\appdata\\local\\programs\\python\\python310\\lib\\site-packages (from pandas>=2.0.0->pyLDAvis) (2023.3)\n",
      "Requirement already satisfied: tzdata>=2022.1 in c:\\users\\dell\\appdata\\local\\programs\\python\\python310\\lib\\site-packages (from pandas>=2.0.0->pyLDAvis) (2023.3)\n",
      "Requirement already satisfied: threadpoolctl>=2.0.0 in c:\\users\\dell\\appdata\\local\\programs\\python\\python310\\lib\\site-packages (from scikit-learn>=1.0.0->pyLDAvis) (3.2.0)\n",
      "Requirement already satisfied: smart-open>=1.8.1 in c:\\users\\dell\\appdata\\local\\programs\\python\\python310\\lib\\site-packages (from gensim->pyLDAvis) (6.4.0)\n",
      "Requirement already satisfied: MarkupSafe>=2.0 in c:\\users\\dell\\appdata\\local\\programs\\python\\python310\\lib\\site-packages (from jinja2->pyLDAvis) (2.1.3)\n",
      "Requirement already satisfied: six>=1.5 in c:\\users\\dell\\appdata\\local\\programs\\python\\python310\\lib\\site-packages (from python-dateutil>=2.8.2->pandas>=2.0.0->pyLDAvis) (1.16.0)\n"
     ]
    }
   ],
   "source": [
    "import warnings\n",
    "warnings.filterwarnings(\"ignore\")\n",
    "\n",
    "# Importing modules\n",
    "import pandas as pd\n",
    "import numpy as np\n",
    "import os\n",
    "import re\n",
    "\n",
    "# LDA Model\n",
    "import gensim\n",
    "from gensim.utils import simple_preprocess\n",
    "import gensim.corpora as corpora\n",
    "from pprint import pprint\n",
    "from gensim.models import CoherenceModel\n",
    "import spacy\n",
    "from nltk.corpus import stopwords\n",
    "\n",
    "# Import the wordcloud library\n",
    "from wordcloud import WordCloud\n",
    "!pip install pyLDAvis\n",
    "\n",
    "\n",
    "# Visualize the topics\n",
    "import pyLDAvis\n",
    "import pyLDAvis.gensim_models\n",
    "import pickle \n",
    "import pyLDAvis"
   ]
  },
  {
   "cell_type": "code",
   "execution_count": 9,
   "id": "c71db7f7-f266-48be-9572-06870ed7b05d",
   "metadata": {},
   "outputs": [],
   "source": [
    "df['overview'] = df['Channel']+\" \"+ df['Track']+\" \"+df['Description']"
   ]
  },
  {
   "cell_type": "code",
   "execution_count": 10,
   "id": "159f0ee6-3930-4d60-97b3-bdf8cb593b6d",
   "metadata": {},
   "outputs": [
    {
     "data": {
      "text/html": [
       "<div>\n",
       "<style scoped>\n",
       "    .dataframe tbody tr th:only-of-type {\n",
       "        vertical-align: middle;\n",
       "    }\n",
       "\n",
       "    .dataframe tbody tr th {\n",
       "        vertical-align: top;\n",
       "    }\n",
       "\n",
       "    .dataframe thead th {\n",
       "        text-align: right;\n",
       "    }\n",
       "</style>\n",
       "<table border=\"1\" class=\"dataframe\">\n",
       "  <thead>\n",
       "    <tr style=\"text-align: right;\">\n",
       "      <th></th>\n",
       "      <th>Unnamed: 0</th>\n",
       "      <th>Artist</th>\n",
       "      <th>Url_spotify</th>\n",
       "      <th>Track</th>\n",
       "      <th>Album</th>\n",
       "      <th>Album_type</th>\n",
       "      <th>Danceability</th>\n",
       "      <th>Energy</th>\n",
       "      <th>Url_youtube</th>\n",
       "      <th>Title</th>\n",
       "      <th>Channel</th>\n",
       "      <th>Views</th>\n",
       "      <th>Likes</th>\n",
       "      <th>Comments</th>\n",
       "      <th>Description</th>\n",
       "      <th>official_video</th>\n",
       "      <th>Stream</th>\n",
       "      <th>overview</th>\n",
       "    </tr>\n",
       "  </thead>\n",
       "  <tbody>\n",
       "    <tr>\n",
       "      <th>0</th>\n",
       "      <td>0</td>\n",
       "      <td>Gorillaz</td>\n",
       "      <td>https://open.spotify.com/artist/3AA28KZvwAUcZu...</td>\n",
       "      <td>Feel Good Inc.</td>\n",
       "      <td>Demon Days</td>\n",
       "      <td>album</td>\n",
       "      <td>0.818</td>\n",
       "      <td>0.705</td>\n",
       "      <td>https://www.youtube.com/watch?v=HyHNuVaZJ-k</td>\n",
       "      <td>Gorillaz - Feel Good Inc. (Official Video)</td>\n",
       "      <td>Gorillaz</td>\n",
       "      <td>693555221.0</td>\n",
       "      <td>6220896.0</td>\n",
       "      <td>169907.0</td>\n",
       "      <td>Official HD Video for Gorillaz' fantastic trac...</td>\n",
       "      <td>True</td>\n",
       "      <td>1.040235e+09</td>\n",
       "      <td>Gorillaz Feel Good Inc. Official HD Video for ...</td>\n",
       "    </tr>\n",
       "    <tr>\n",
       "      <th>1</th>\n",
       "      <td>1</td>\n",
       "      <td>Gorillaz</td>\n",
       "      <td>https://open.spotify.com/artist/3AA28KZvwAUcZu...</td>\n",
       "      <td>Rhinestone Eyes</td>\n",
       "      <td>Plastic Beach</td>\n",
       "      <td>album</td>\n",
       "      <td>0.676</td>\n",
       "      <td>0.703</td>\n",
       "      <td>https://www.youtube.com/watch?v=yYDmaexVHic</td>\n",
       "      <td>Gorillaz - Rhinestone Eyes [Storyboard Film] (...</td>\n",
       "      <td>Gorillaz</td>\n",
       "      <td>72011645.0</td>\n",
       "      <td>1079128.0</td>\n",
       "      <td>31003.0</td>\n",
       "      <td>The official video for Gorillaz - Rhinestone E...</td>\n",
       "      <td>True</td>\n",
       "      <td>3.100837e+08</td>\n",
       "      <td>Gorillaz Rhinestone Eyes The official video fo...</td>\n",
       "    </tr>\n",
       "    <tr>\n",
       "      <th>2</th>\n",
       "      <td>2</td>\n",
       "      <td>Gorillaz</td>\n",
       "      <td>https://open.spotify.com/artist/3AA28KZvwAUcZu...</td>\n",
       "      <td>New Gold (feat. Tame Impala and Bootie Brown)</td>\n",
       "      <td>New Gold (feat. Tame Impala and Bootie Brown)</td>\n",
       "      <td>single</td>\n",
       "      <td>0.695</td>\n",
       "      <td>0.923</td>\n",
       "      <td>https://www.youtube.com/watch?v=qJa-VFwPpYA</td>\n",
       "      <td>Gorillaz - New Gold ft. Tame Impala &amp; Bootie B...</td>\n",
       "      <td>Gorillaz</td>\n",
       "      <td>8435055.0</td>\n",
       "      <td>282142.0</td>\n",
       "      <td>7399.0</td>\n",
       "      <td>Gorillaz - New Gold ft. Tame Impala &amp; Bootie B...</td>\n",
       "      <td>True</td>\n",
       "      <td>6.306347e+07</td>\n",
       "      <td>Gorillaz New Gold (feat. Tame Impala and Booti...</td>\n",
       "    </tr>\n",
       "    <tr>\n",
       "      <th>3</th>\n",
       "      <td>3</td>\n",
       "      <td>Gorillaz</td>\n",
       "      <td>https://open.spotify.com/artist/3AA28KZvwAUcZu...</td>\n",
       "      <td>On Melancholy Hill</td>\n",
       "      <td>Plastic Beach</td>\n",
       "      <td>album</td>\n",
       "      <td>0.689</td>\n",
       "      <td>0.739</td>\n",
       "      <td>https://www.youtube.com/watch?v=04mfKJWDSzI</td>\n",
       "      <td>Gorillaz - On Melancholy Hill (Official Video)</td>\n",
       "      <td>Gorillaz</td>\n",
       "      <td>211754952.0</td>\n",
       "      <td>1788577.0</td>\n",
       "      <td>55229.0</td>\n",
       "      <td>Follow Gorillaz online:\\nhttp://gorillaz.com \\...</td>\n",
       "      <td>True</td>\n",
       "      <td>4.346636e+08</td>\n",
       "      <td>Gorillaz On Melancholy Hill Follow Gorillaz on...</td>\n",
       "    </tr>\n",
       "    <tr>\n",
       "      <th>4</th>\n",
       "      <td>4</td>\n",
       "      <td>Gorillaz</td>\n",
       "      <td>https://open.spotify.com/artist/3AA28KZvwAUcZu...</td>\n",
       "      <td>Clint Eastwood</td>\n",
       "      <td>Gorillaz</td>\n",
       "      <td>album</td>\n",
       "      <td>0.663</td>\n",
       "      <td>0.694</td>\n",
       "      <td>https://www.youtube.com/watch?v=1V_xRb0x9aw</td>\n",
       "      <td>Gorillaz - Clint Eastwood (Official Video)</td>\n",
       "      <td>Gorillaz</td>\n",
       "      <td>618480958.0</td>\n",
       "      <td>6197318.0</td>\n",
       "      <td>155930.0</td>\n",
       "      <td>The official music video for Gorillaz - Clint ...</td>\n",
       "      <td>True</td>\n",
       "      <td>6.172597e+08</td>\n",
       "      <td>Gorillaz Clint Eastwood The official music vid...</td>\n",
       "    </tr>\n",
       "  </tbody>\n",
       "</table>\n",
       "</div>"
      ],
      "text/plain": [
       "   Unnamed: 0    Artist                                        Url_spotify  \\\n",
       "0           0  Gorillaz  https://open.spotify.com/artist/3AA28KZvwAUcZu...   \n",
       "1           1  Gorillaz  https://open.spotify.com/artist/3AA28KZvwAUcZu...   \n",
       "2           2  Gorillaz  https://open.spotify.com/artist/3AA28KZvwAUcZu...   \n",
       "3           3  Gorillaz  https://open.spotify.com/artist/3AA28KZvwAUcZu...   \n",
       "4           4  Gorillaz  https://open.spotify.com/artist/3AA28KZvwAUcZu...   \n",
       "\n",
       "                                           Track  \\\n",
       "0                                 Feel Good Inc.   \n",
       "1                                Rhinestone Eyes   \n",
       "2  New Gold (feat. Tame Impala and Bootie Brown)   \n",
       "3                             On Melancholy Hill   \n",
       "4                                 Clint Eastwood   \n",
       "\n",
       "                                           Album Album_type  Danceability  \\\n",
       "0                                     Demon Days      album         0.818   \n",
       "1                                  Plastic Beach      album         0.676   \n",
       "2  New Gold (feat. Tame Impala and Bootie Brown)     single         0.695   \n",
       "3                                  Plastic Beach      album         0.689   \n",
       "4                                       Gorillaz      album         0.663   \n",
       "\n",
       "   Energy                                  Url_youtube  \\\n",
       "0   0.705  https://www.youtube.com/watch?v=HyHNuVaZJ-k   \n",
       "1   0.703  https://www.youtube.com/watch?v=yYDmaexVHic   \n",
       "2   0.923  https://www.youtube.com/watch?v=qJa-VFwPpYA   \n",
       "3   0.739  https://www.youtube.com/watch?v=04mfKJWDSzI   \n",
       "4   0.694  https://www.youtube.com/watch?v=1V_xRb0x9aw   \n",
       "\n",
       "                                               Title   Channel        Views  \\\n",
       "0         Gorillaz - Feel Good Inc. (Official Video)  Gorillaz  693555221.0   \n",
       "1  Gorillaz - Rhinestone Eyes [Storyboard Film] (...  Gorillaz   72011645.0   \n",
       "2  Gorillaz - New Gold ft. Tame Impala & Bootie B...  Gorillaz    8435055.0   \n",
       "3     Gorillaz - On Melancholy Hill (Official Video)  Gorillaz  211754952.0   \n",
       "4         Gorillaz - Clint Eastwood (Official Video)  Gorillaz  618480958.0   \n",
       "\n",
       "       Likes  Comments                                        Description  \\\n",
       "0  6220896.0  169907.0  Official HD Video for Gorillaz' fantastic trac...   \n",
       "1  1079128.0   31003.0  The official video for Gorillaz - Rhinestone E...   \n",
       "2   282142.0    7399.0  Gorillaz - New Gold ft. Tame Impala & Bootie B...   \n",
       "3  1788577.0   55229.0  Follow Gorillaz online:\\nhttp://gorillaz.com \\...   \n",
       "4  6197318.0  155930.0  The official music video for Gorillaz - Clint ...   \n",
       "\n",
       "  official_video        Stream  \\\n",
       "0           True  1.040235e+09   \n",
       "1           True  3.100837e+08   \n",
       "2           True  6.306347e+07   \n",
       "3           True  4.346636e+08   \n",
       "4           True  6.172597e+08   \n",
       "\n",
       "                                            overview  \n",
       "0  Gorillaz Feel Good Inc. Official HD Video for ...  \n",
       "1  Gorillaz Rhinestone Eyes The official video fo...  \n",
       "2  Gorillaz New Gold (feat. Tame Impala and Booti...  \n",
       "3  Gorillaz On Melancholy Hill Follow Gorillaz on...  \n",
       "4  Gorillaz Clint Eastwood The official music vid...  "
      ]
     },
     "execution_count": 10,
     "metadata": {},
     "output_type": "execute_result"
    }
   ],
   "source": [
    "df.head()"
   ]
  },
  {
   "cell_type": "code",
   "execution_count": 11,
   "id": "69473a6a-8eed-4e82-8d2c-16c4ce156a70",
   "metadata": {},
   "outputs": [
    {
     "name": "stderr",
     "output_type": "stream",
     "text": [
      "[nltk_data] Downloading package stopwords to\n",
      "[nltk_data]     C:\\Users\\Dell\\AppData\\Roaming\\nltk_data...\n",
      "[nltk_data]   Package stopwords is already up-to-date!\n"
     ]
    }
   ],
   "source": [
    "# Tokenization\n",
    "def sentence_to_words(sentences):\n",
    " for sentence in sentences:\n",
    "  yield(gensim.utils.simple_preprocess(str(sentence), deacc=True)) # deacc=True removes punctuations and special characters\n",
    "\n",
    "all_words = list(sentence_to_words(df['overview']))\n",
    "\n",
    "\n",
    "# remove stopwords\n",
    "import nltk\n",
    "nltk.download('stopwords')\n",
    "\n",
    "stop_words = stopwords.words('english')\n",
    "\n",
    "# stop_words.extend(['']) #extend existing stop word list if needed\n",
    "def remove_stopwords(texts):\n",
    " return [[word for word in simple_preprocess(str(doc)) if word not in stop_words] for doc in texts]\n",
    "\n",
    "\n",
    "# Building  the bigram \n",
    "bigram = gensim.models.Phrases(all_words, min_count=5, threshold=10) \n",
    "\n",
    "bigram_mod = gensim.models.phrases.Phraser(bigram)\n",
    "def create_bigrams(texts):\n",
    " return [bigram_mod[doc] for doc in texts]\n",
    "\n",
    "# Lemmatization\n",
    "def lemmatization(texts, allowed_postags=['NOUN', 'ADJ', 'VERB', 'ADV']):\n",
    " texts_out = []\n",
    " for sent in texts:\n",
    "  doc = nlp(\" \".join(sent)) \n",
    "  texts_out.append([token.lemma_ for token in doc if token.pos_ in allowed_postags])\n",
    " return texts_out"
   ]
  },
  {
   "cell_type": "code",
   "execution_count": 14,
   "id": "f226e2aa-b434-4734-adf7-d21b8a8d5170",
   "metadata": {},
   "outputs": [
    {
     "name": "stdout",
     "output_type": "stream",
     "text": [
      "[['official_hd', 'video', 'gorillaz', 'fantastic', 'track', 'follow', 'gorillaz', 'com', 'http', 'gorillaz', 'http', 'gorillazband', 'information', 'gorillaz', 'check', 'official_website', 'http', 'www', 'com']]\n"
     ]
    }
   ],
   "source": [
    "all_words_nostops = remove_stopwords(all_words)\n",
    "all_words_bigrams = create_bigrams(all_words_nostops)\n",
    "nlp = spacy.load(\"en_core_web_sm\", disable=['parser', 'ner'])\n",
    "data_lemmatized = lemmatization(all_words_bigrams, allowed_postags=['NOUN', 'ADJ', 'VERB', 'ADV'])\n",
    "print(data_lemmatized[:1]) "
   ]
  },
  {
   "cell_type": "code",
   "execution_count": 15,
   "id": "56f94f30-ed79-4137-93a1-f09eac20c9a5",
   "metadata": {},
   "outputs": [],
   "source": [
    "# Create Dictionary\n",
    "id2word = corpora.Dictionary(data_lemmatized)\n",
    "\n",
    "# Filter out tokens that appear in only 1 documents and appear in more than 90% of the documents\n",
    "id2word.filter_extremes(no_below=2, no_above=0.9)\n",
    "\n",
    "# Create Corpus\n",
    "texts = data_lemmatized\n",
    "\n",
    "# Term Document Frequency\n",
    "corpus = [id2word.doc2bow(text) for text in texts]"
   ]
  },
  {
   "cell_type": "code",
   "execution_count": 17,
   "id": "840ba6f9-562a-4514-91a2-bd1fd7e09fd5",
   "metadata": {},
   "outputs": [],
   "source": [
    "# Building LDA model for 10 topics\n",
    "lda_model = gensim.models.LdaMulticore(corpus=corpus,\n",
    "                                       id2word=id2word,\n",
    "                                       num_topics=20, \n",
    "                                       random_state=100,\n",
    "                                       chunksize=100,\n",
    "                                       passes=10,\n",
    "                                       per_word_topics=True)"
   ]
  },
  {
   "cell_type": "code",
   "execution_count": 25,
   "id": "0f95711c-45f4-4372-860d-50cc363adee9",
   "metadata": {},
   "outputs": [
    {
     "name": "stdout",
     "output_type": "stream",
     "text": [
      "[(0,\n",
      "  '0.039*\"found_ee\" + 0.018*\"fire\" + 0.014*\"rain\" + 0.013*\"last\" + '\n",
      "  '0.012*\"wish\" + 0.011*\"beautiful\" + 0.011*\"https\" + 0.011*\"sleep\" + '\n",
      "  '0.010*\"sky\" + 0.009*\"day\"'),\n",
      " (1,\n",
      "  '0.164*\"https\" + 0.132*\"com\" + 0.053*\"http\" + 0.048*\"twitter\" + '\n",
      "  '0.043*\"youtube\" + 0.042*\"instagram\" + 0.037*\"spotify\" + 0.033*\"facebook\" + '\n",
      "  '0.030*\"follow\" + 0.024*\"music\"'),\n",
      " (2,\n",
      "  '0.065*\"director\" + 0.042*\"production\" + 0.038*\"producer\" + 0.027*\"produce\" '\n",
      "  '+ 0.027*\"editor\" + 0.024*\"cast\" + 0.023*\"studio\" + '\n",
      "  '0.022*\"executive_producer\" + 0.019*\"film\" + 0.017*\"photography\"'),\n",
      " (3,\n",
      "  '0.070*\"get\" + 0.018*\"girl\" + 0.015*\"come\" + 0.011*\"go\" + 0.010*\"bitch\" + '\n",
      "  '0.010*\"fuck\" + 0.010*\"baby\" + 0.009*\"shit\" + 0.009*\"make\" + 0.008*\"put\"'),\n",
      " (4,\n",
      "  '0.110*\"http_bit\" + 0.050*\"ly\" + 0.048*\"music\" + 0.043*\"song\" + '\n",
      "  '0.017*\"movie\" + 0.016*\"lyric\" + 0.016*\"set\" + 0.014*\"video\" + '\n",
      "  '0.013*\"singer\" + 0.013*\"twitter\"'),\n",
      " (5,\n",
      "  '0.056*\"https\" + 0.037*\"video\" + 0.026*\"perform\" + 0.026*\"social\" + '\n",
      "  '0.025*\"stream\" + 0.023*\"entertainment\" + 0.021*\"update\" + 0.020*\"instagram\" '\n",
      "  '+ 0.019*\"twitter\" + 0.017*\"lnk\"'),\n",
      " (6,\n",
      "  '0.068*\"music\" + 0.055*\"https\" + 0.022*\"com\" + 0.014*\"home\" + '\n",
      "  '0.014*\"subscribe\" + 0.013*\"song\" + 0.013*\"video\" + 0.012*\"artist\" + '\n",
      "  '0.011*\"soundtrack\" + 0.011*\"follow\"'),\n",
      " (7,\n",
      "  '0.145*\"que\" + 0.031*\"por\" + 0.019*\"https\" + 0.017*\"pero\" + 0.013*\"ti\" + '\n",
      "  '0.012*\"instagram\" + 0.012*\"aqui\" + 0.011*\"si\" + 0.011*\"facebook\" + '\n",
      "  '0.010*\"com\"'),\n",
      " (8,\n",
      "  '0.089*\"remix\" + 0.040*\"perform\" + 0.026*\"sony_music\" + 0.022*\"cara\" + '\n",
      "  '0.018*\"universal_music\" + 0.018*\"entertainment_u\" + 0.016*\"ella\" + '\n",
      "  '0.014*\"dio\" + 0.014*\"bad_bunny\" + 0.014*\"ffm\"'),\n",
      " (9,\n",
      "  '0.022*\"snap\" + 0.020*\"postmalone\" + 0.019*\"show\" + 0.018*\"sunshine\" + '\n",
      "  '0.016*\"grupo\" + 0.014*\"en_vivo\" + 0.012*\"loco\" + 0.012*\"vivo\" + '\n",
      "  '0.011*\"dice_que\" + 0.009*\"outside\"'),\n",
      " (10,\n",
      "  '0.018*\"sing\" + 0.018*\"company\" + 0.015*\"voice\" + 0.015*\"kill\" + '\n",
      "  '0.015*\"woman\" + 0.014*\"build\" + 0.014*\"human\" + 0.014*\"choice\" + '\n",
      "  '0.012*\"man\" + 0.011*\"noise\"'),\n",
      " (11,\n",
      "  '0.070*\"https\" + 0.013*\"empire\" + 0.011*\"blue\" + 0.010*\"listen\" + '\n",
      "  '0.008*\"belong\" + 0.008*\"video\" + 0.007*\"line\" + 0.007*\"side\" + '\n",
      "  '0.007*\"applemusic_itune\" + 0.006*\"acoustic\"'),\n",
      " (12,\n",
      "  '0.142*\"perform\" + 0.050*\"remastere\" + 0.040*\"vevo\" + 0.033*\"music_video\" + '\n",
      "  '0.020*\"hd\" + 0.018*\"interscope_record\" + 0.015*\"purchase\" + '\n",
      "  '0.014*\"division\" + 0.014*\"good\" + 0.012*\"gl\"'),\n",
      " (13,\n",
      "  '0.118*\"youtube\" + 0.064*\"auto_generate\" + 0.062*\"topic\" + 0.060*\"provide\" + '\n",
      "  '0.046*\"producer\" + 0.043*\"release\" + 0.019*\"associated_performer\" + '\n",
      "  '0.018*\"composer_lyricist\" + 0.016*\"unknown\" + 0.016*\"vocal\"'),\n",
      " (14,\n",
      "  '0.169*\"lnk\" + 0.096*\"https\" + 0.033*\"listen\" + 0.031*\"video\" + '\n",
      "  '0.024*\"facebook\" + 0.024*\"official\" + 0.017*\"follow\" + '\n",
      "  '0.012*\"followwi_spotify\" + 0.011*\"spotify\" + 0.010*\"subscribeyd_follow\"'),\n",
      " (15,\n",
      "  '0.023*\"album\" + 0.018*\"release\" + 0.013*\"video\" + 0.012*\"song\" + '\n",
      "  '0.011*\"band\" + 0.011*\"official\" + 0.009*\"good\" + 0.009*\"hit\" + '\n",
      "  '0.008*\"single\" + 0.008*\"live\"'),\n",
      " (16,\n",
      "  '0.026*\"video\" + 0.026*\"make\" + 0.024*\"dance\" + 0.019*\"song\" + '\n",
      "  '0.014*\"camera\" + 0.010*\"music\" + 0.009*\"show\" + 0.009*\"original\" + '\n",
      "  '0.009*\"new\" + 0.009*\"live\"'),\n",
      " (17,\n",
      "  '0.028*\"https\" + 0.017*\"rise\" + 0.014*\"name\" + 0.011*\"video\" + 0.011*\"com\" + '\n",
      "  '0.010*\"great\" + 0.010*\"song\" + 0.010*\"story\" + 0.009*\"facebook\" + '\n",
      "  '0.009*\"rhino\"'),\n",
      " (18,\n",
      "  '0.029*\"https\" + 0.028*\"oh_oh\" + 0.019*\"twitter\" + 0.017*\"instagram\" + '\n",
      "  '0.016*\"http\" + 0.015*\"follow\" + 0.013*\"feat\" + 0.012*\"new_album\" + '\n",
      "  '0.012*\"perform\" + 0.011*\"facebook\"'),\n",
      " (19,\n",
      "  '0.034*\"love\" + 0.027*\"know\" + 0.021*\"go\" + 0.017*\"say\" + 0.015*\"get\" + '\n",
      "  '0.015*\"want\" + 0.014*\"make\" + 0.012*\"see\" + 0.012*\"take\" + 0.011*\"time\"')]\n"
     ]
    }
   ],
   "source": [
    "# Printing the Keywords in the 20 topics\n",
    "pprint(lda_model.print_topics())\n",
    "doc_lda = lda_model[corpus]"
   ]
  },
  {
   "cell_type": "code",
   "execution_count": 26,
   "id": "f6752215-b93c-4d3e-a6af-d0f0785a677f",
   "metadata": {},
   "outputs": [],
   "source": [
    "def recommend_by_artist(artist, df):\n",
    "\n",
    "    recommended = []\n",
    "    top10_list = []\n",
    "    \n",
    "    artist = artist.lower()\n",
    "    df['artist'] = df['artist'].str.lower()\n",
    "    \n",
    "    topic_number = df[df['artist']==artist].Topic.values\n",
    "    doc_number = df[df['artist']==artist].Doc.values    \n",
    "        \n",
    "    output = df[df['Topic']==topic_number[0]].sort_values('Probability', ascending=False).reset_index(drop=True)\n",
    "\n",
    "    index = output[output['Doc']==doc_number[0]].index[0]\n",
    "    \n",
    "    top10_list += list(output.iloc[index-5:index].index)\n",
    "    top10_list += list(output.iloc[index+1:index+6].index)\n",
    "    \n",
    "    output['artist'] = output['atist'].str.artist()\n",
    "    \n",
    "    for each in top10_list:\n",
    "        recommended.append(output.iloc[each].artist)\n",
    "        \n",
    "    return recommended"
   ]
  },
  {
   "cell_type": "code",
   "execution_count": 27,
   "id": "0f8a5326-6fc1-4f3b-8c7a-bc26057fc2a3",
   "metadata": {},
   "outputs": [
    {
     "ename": "KeyError",
     "evalue": "'artist'",
     "output_type": "error",
     "traceback": [
      "\u001b[1;31m---------------------------------------------------------------------------\u001b[0m",
      "\u001b[1;31mKeyError\u001b[0m                                  Traceback (most recent call last)",
      "File \u001b[1;32m~\\AppData\\Local\\Programs\\Python\\Python310\\lib\\site-packages\\pandas\\core\\indexes\\base.py:3653\u001b[0m, in \u001b[0;36mIndex.get_loc\u001b[1;34m(self, key)\u001b[0m\n\u001b[0;32m   3652\u001b[0m \u001b[38;5;28;01mtry\u001b[39;00m:\n\u001b[1;32m-> 3653\u001b[0m     \u001b[38;5;28;01mreturn\u001b[39;00m \u001b[38;5;28;43mself\u001b[39;49m\u001b[38;5;241;43m.\u001b[39;49m\u001b[43m_engine\u001b[49m\u001b[38;5;241;43m.\u001b[39;49m\u001b[43mget_loc\u001b[49m\u001b[43m(\u001b[49m\u001b[43mcasted_key\u001b[49m\u001b[43m)\u001b[49m\n\u001b[0;32m   3654\u001b[0m \u001b[38;5;28;01mexcept\u001b[39;00m \u001b[38;5;167;01mKeyError\u001b[39;00m \u001b[38;5;28;01mas\u001b[39;00m err:\n",
      "File \u001b[1;32m~\\AppData\\Local\\Programs\\Python\\Python310\\lib\\site-packages\\pandas\\_libs\\index.pyx:147\u001b[0m, in \u001b[0;36mpandas._libs.index.IndexEngine.get_loc\u001b[1;34m()\u001b[0m\n",
      "File \u001b[1;32m~\\AppData\\Local\\Programs\\Python\\Python310\\lib\\site-packages\\pandas\\_libs\\index.pyx:176\u001b[0m, in \u001b[0;36mpandas._libs.index.IndexEngine.get_loc\u001b[1;34m()\u001b[0m\n",
      "File \u001b[1;32mpandas\\_libs\\hashtable_class_helper.pxi:7080\u001b[0m, in \u001b[0;36mpandas._libs.hashtable.PyObjectHashTable.get_item\u001b[1;34m()\u001b[0m\n",
      "File \u001b[1;32mpandas\\_libs\\hashtable_class_helper.pxi:7088\u001b[0m, in \u001b[0;36mpandas._libs.hashtable.PyObjectHashTable.get_item\u001b[1;34m()\u001b[0m\n",
      "\u001b[1;31mKeyError\u001b[0m: 'artist'",
      "\nThe above exception was the direct cause of the following exception:\n",
      "\u001b[1;31mKeyError\u001b[0m                                  Traceback (most recent call last)",
      "Cell \u001b[1;32mIn[27], line 1\u001b[0m\n\u001b[1;32m----> 1\u001b[0m \u001b[43mrecommend_by_artist\u001b[49m\u001b[43m(\u001b[49m\u001b[38;5;124;43m'\u001b[39;49m\u001b[38;5;124;43mthasup\u001b[39;49m\u001b[38;5;124;43m'\u001b[39;49m\u001b[43m,\u001b[49m\u001b[43m \u001b[49m\u001b[43mdf\u001b[49m\u001b[43m)\u001b[49m\n",
      "Cell \u001b[1;32mIn[26], line 7\u001b[0m, in \u001b[0;36mrecommend_by_artist\u001b[1;34m(artist, df)\u001b[0m\n\u001b[0;32m      4\u001b[0m top10_list \u001b[38;5;241m=\u001b[39m []\n\u001b[0;32m      6\u001b[0m artist \u001b[38;5;241m=\u001b[39m artist\u001b[38;5;241m.\u001b[39mlower()\n\u001b[1;32m----> 7\u001b[0m df[\u001b[38;5;124m'\u001b[39m\u001b[38;5;124martist\u001b[39m\u001b[38;5;124m'\u001b[39m] \u001b[38;5;241m=\u001b[39m \u001b[43mdf\u001b[49m\u001b[43m[\u001b[49m\u001b[38;5;124;43m'\u001b[39;49m\u001b[38;5;124;43martist\u001b[39;49m\u001b[38;5;124;43m'\u001b[39;49m\u001b[43m]\u001b[49m\u001b[38;5;241m.\u001b[39mstr\u001b[38;5;241m.\u001b[39mlower()\n\u001b[0;32m      9\u001b[0m topic_number \u001b[38;5;241m=\u001b[39m df[df[\u001b[38;5;124m'\u001b[39m\u001b[38;5;124martist\u001b[39m\u001b[38;5;124m'\u001b[39m]\u001b[38;5;241m==\u001b[39martist]\u001b[38;5;241m.\u001b[39mTopic\u001b[38;5;241m.\u001b[39mvalues\n\u001b[0;32m     10\u001b[0m doc_number \u001b[38;5;241m=\u001b[39m df[df[\u001b[38;5;124m'\u001b[39m\u001b[38;5;124martist\u001b[39m\u001b[38;5;124m'\u001b[39m]\u001b[38;5;241m==\u001b[39martist]\u001b[38;5;241m.\u001b[39mDoc\u001b[38;5;241m.\u001b[39mvalues    \n",
      "File \u001b[1;32m~\\AppData\\Local\\Programs\\Python\\Python310\\lib\\site-packages\\pandas\\core\\frame.py:3761\u001b[0m, in \u001b[0;36mDataFrame.__getitem__\u001b[1;34m(self, key)\u001b[0m\n\u001b[0;32m   3759\u001b[0m \u001b[38;5;28;01mif\u001b[39;00m \u001b[38;5;28mself\u001b[39m\u001b[38;5;241m.\u001b[39mcolumns\u001b[38;5;241m.\u001b[39mnlevels \u001b[38;5;241m>\u001b[39m \u001b[38;5;241m1\u001b[39m:\n\u001b[0;32m   3760\u001b[0m     \u001b[38;5;28;01mreturn\u001b[39;00m \u001b[38;5;28mself\u001b[39m\u001b[38;5;241m.\u001b[39m_getitem_multilevel(key)\n\u001b[1;32m-> 3761\u001b[0m indexer \u001b[38;5;241m=\u001b[39m \u001b[38;5;28;43mself\u001b[39;49m\u001b[38;5;241;43m.\u001b[39;49m\u001b[43mcolumns\u001b[49m\u001b[38;5;241;43m.\u001b[39;49m\u001b[43mget_loc\u001b[49m\u001b[43m(\u001b[49m\u001b[43mkey\u001b[49m\u001b[43m)\u001b[49m\n\u001b[0;32m   3762\u001b[0m \u001b[38;5;28;01mif\u001b[39;00m is_integer(indexer):\n\u001b[0;32m   3763\u001b[0m     indexer \u001b[38;5;241m=\u001b[39m [indexer]\n",
      "File \u001b[1;32m~\\AppData\\Local\\Programs\\Python\\Python310\\lib\\site-packages\\pandas\\core\\indexes\\base.py:3655\u001b[0m, in \u001b[0;36mIndex.get_loc\u001b[1;34m(self, key)\u001b[0m\n\u001b[0;32m   3653\u001b[0m     \u001b[38;5;28;01mreturn\u001b[39;00m \u001b[38;5;28mself\u001b[39m\u001b[38;5;241m.\u001b[39m_engine\u001b[38;5;241m.\u001b[39mget_loc(casted_key)\n\u001b[0;32m   3654\u001b[0m \u001b[38;5;28;01mexcept\u001b[39;00m \u001b[38;5;167;01mKeyError\u001b[39;00m \u001b[38;5;28;01mas\u001b[39;00m err:\n\u001b[1;32m-> 3655\u001b[0m     \u001b[38;5;28;01mraise\u001b[39;00m \u001b[38;5;167;01mKeyError\u001b[39;00m(key) \u001b[38;5;28;01mfrom\u001b[39;00m \u001b[38;5;21;01merr\u001b[39;00m\n\u001b[0;32m   3656\u001b[0m \u001b[38;5;28;01mexcept\u001b[39;00m \u001b[38;5;167;01mTypeError\u001b[39;00m:\n\u001b[0;32m   3657\u001b[0m     \u001b[38;5;66;03m# If we have a listlike key, _check_indexing_error will raise\u001b[39;00m\n\u001b[0;32m   3658\u001b[0m     \u001b[38;5;66;03m#  InvalidIndexError. Otherwise we fall through and re-raise\u001b[39;00m\n\u001b[0;32m   3659\u001b[0m     \u001b[38;5;66;03m#  the TypeError.\u001b[39;00m\n\u001b[0;32m   3660\u001b[0m     \u001b[38;5;28mself\u001b[39m\u001b[38;5;241m.\u001b[39m_check_indexing_error(key)\n",
      "\u001b[1;31mKeyError\u001b[0m: 'artist'"
     ]
    }
   ],
   "source": [
    "recommend_by_artist('thasup', df)"
   ]
  },
  {
   "cell_type": "code",
   "execution_count": null,
   "id": "bba6a80b-91fd-4ce4-af32-2b5323da7b43",
   "metadata": {},
   "outputs": [],
   "source": []
  }
 ],
 "metadata": {
  "kernelspec": {
   "display_name": "Python 3 (ipykernel)",
   "language": "python",
   "name": "python3"
  },
  "language_info": {
   "codemirror_mode": {
    "name": "ipython",
    "version": 3
   },
   "file_extension": ".py",
   "mimetype": "text/x-python",
   "name": "python",
   "nbconvert_exporter": "python",
   "pygments_lexer": "ipython3",
   "version": "3.10.7"
  }
 },
 "nbformat": 4,
 "nbformat_minor": 5
}
